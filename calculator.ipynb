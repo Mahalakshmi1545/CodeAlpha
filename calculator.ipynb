{
 "cells": [
  {
   "cell_type": "code",
   "execution_count": 2,
   "id": "2d1b49fe",
   "metadata": {},
   "outputs": [
    {
     "name": "stdout",
     "output_type": "stream",
     "text": [
      "Select operation:\n",
      "1. Add\n",
      "2. Subtract\n",
      "3. Multiply\n",
      "4. Divide\n",
      "5. Exponentiate\n",
      "6. Modulus\n",
      "7. Floor Division\n",
      "8. Square Root\n",
      "Enter choice (1-8): 4\n",
      "Enter first number: 5\n",
      "Enter second number: 7\n",
      "5.0 / 7.0 = 0.7142857142857143\n"
     ]
    }
   ],
   "source": [
    "import math  \n",
    "def add(x, y):\n",
    "    return x + y\n",
    "def subtract(x, y):\n",
    "    return x - y\n",
    "def multiply(x, y):\n",
    "    return x * y\n",
    "def divide(x, y):\n",
    "    if y == 0:\n",
    "        return \"Error! Division by zero.\"\n",
    "    return x / y\n",
    "def exponentiate(x, y):\n",
    "    return x ** y\n",
    "def modulus(x, y):\n",
    "    return x % y\n",
    "def floor_division(x, y):\n",
    "    if y == 0:\n",
    "        return \"Error! Division by zero.\"\n",
    "    return x // y\n",
    "def square_root(x):\n",
    "    if x < 0:\n",
    "        return \"Error! Square root of negative number.\"\n",
    "    return math.sqrt(x)\n",
    "print(\"Select operation:\")\n",
    "print(\"1. Add\")\n",
    "print(\"2. Subtract\")\n",
    "print(\"3. Multiply\")\n",
    "print(\"4. Divide\")\n",
    "print(\"5. Exponentiate\")\n",
    "print(\"6. Modulus\")\n",
    "print(\"7. Floor Division\")\n",
    "print(\"8. Square Root\")\n",
    "choice = input(\"Enter choice (1-8): \")\n",
    "if choice == '8':  # Square root only needs one number\n",
    "    num = float(input(\"Enter the number: \"))\n",
    "    print(f\"Square root of {num} = {square_root(num)}\")\n",
    "else:\n",
    "    num1 = float(input(\"Enter first number: \"))\n",
    "    num2 = float(input(\"Enter second number: \"))\n",
    "\n",
    "    if choice == '1':\n",
    "        print(f\"{num1} + {num2} = {add(num1, num2)}\")\n",
    "    elif choice == '2':\n",
    "        print(f\"{num1} - {num2} = {subtract(num1, num2)}\")\n",
    "    elif choice == '3':\n",
    "        print(f\"{num1} * {num2} = {multiply(num1, num2)}\")\n",
    "    elif choice == '4':\n",
    "        print(f\"{num1} / {num2} = {divide(num1, num2)}\")\n",
    "    elif choice == '5':\n",
    "        print(f\"{num1} ^ {num2} = {exponentiate(num1, num2)}\")\n",
    "    elif choice == '6':\n",
    "        print(f\"{num1} % {num2} = {modulus(num1, num2)}\")\n",
    "    elif choice == '7':\n",
    "        print(f\"{num1} // {num2} = {floor_division(num1, num2)}\")\n",
    "    else:\n",
    "        print(\"Invalid input\")"
   ]
  },
  {
   "cell_type": "code",
   "execution_count": null,
   "id": "0158e0fe",
   "metadata": {},
   "outputs": [],
   "source": []
  },
  {
   "cell_type": "code",
   "execution_count": null,
   "id": "4adf958d",
   "metadata": {},
   "outputs": [],
   "source": []
  }
 ],
 "metadata": {
  "kernelspec": {
   "display_name": "Python 3 (ipykernel)",
   "language": "python",
   "name": "python3"
  },
  "language_info": {
   "codemirror_mode": {
    "name": "ipython",
    "version": 3
   },
   "file_extension": ".py",
   "mimetype": "text/x-python",
   "name": "python",
   "nbconvert_exporter": "python",
   "pygments_lexer": "ipython3",
   "version": "3.11.5"
  }
 },
 "nbformat": 4,
 "nbformat_minor": 5
}
